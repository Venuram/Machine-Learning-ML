{
  "nbformat": 4,
  "nbformat_minor": 0,
  "metadata": {
    "colab": {
      "name": "Outlier Detection",
      "provenance": [],
      "authorship_tag": "ABX9TyMmln9kG9RfUsUsv6cYhhYg",
      "include_colab_link": true
    },
    "kernelspec": {
      "name": "python3",
      "display_name": "Python 3"
    },
    "accelerator": "GPU"
  },
  "cells": [
    {
      "cell_type": "markdown",
      "metadata": {
        "id": "view-in-github",
        "colab_type": "text"
      },
      "source": [
        "<a href=\"https://colab.research.google.com/github/Venuram/Machine-Learning-ML/blob/master/Outlier_Detection.ipynb\" target=\"_parent\"><img src=\"https://colab.research.google.com/assets/colab-badge.svg\" alt=\"Open In Colab\"/></a>"
      ]
    },
    {
      "cell_type": "code",
      "metadata": {
        "id": "I48j-mR2P8sz",
        "colab_type": "code",
        "colab": {}
      },
      "source": [
        "import numpy as np\n",
        "import matplotlib.pyplot as plt\n",
        "%matplotlib inline"
      ],
      "execution_count": 0,
      "outputs": []
    },
    {
      "cell_type": "markdown",
      "metadata": {
        "id": "984m_pXMWJxg",
        "colab_type": "text"
      },
      "source": [
        "What are the criteria to identify an outlier?\n",
        "\n",
        "Data point that falls outside of 1.5 times of an interquartile range above the 3rd quartile and below the 1st quartile\n",
        "\n",
        "Data point that falls outside of 3 standard deviations. we can use a z score and if the z score falls outside of 2 standard deviation\n",
        "\n",
        "What is the reason for an outlier to exists in a dataset?\n",
        "\n",
        "Variability in the data\n",
        "\n",
        "An experimental measurement error\n",
        "\n",
        "What are the impacts of having outliers in a dataset?\n",
        "\n",
        "It causes various problems during our statistical analysis\n",
        "\n",
        "It may cause a significant impact on the mean and the standard deviation\n",
        "\n",
        "Various ways of finding the outlier.\n",
        "\n",
        "Using scatter plots\n",
        "\n",
        "Box plot\n",
        "\n",
        "using z score\n",
        "\n",
        "using the IQR interquantile range"
      ]
    },
    {
      "cell_type": "code",
      "metadata": {
        "id": "rCy12K_gQEnp",
        "colab_type": "code",
        "colab": {}
      },
      "source": [
        "dataset= [11,10,12,14,12,15,14,13,15,102,12,14,17,19,107, 10,13,12,14,12,108,12,11,14,13,15,10,15,12,10,14,13,15,10]"
      ],
      "execution_count": 0,
      "outputs": []
    },
    {
      "cell_type": "markdown",
      "metadata": {
        "id": "aHBNa432WGLL",
        "colab_type": "text"
      },
      "source": [
        "Detecting outlier using Z score\n",
        "Using Z score\n",
        "Formula for Z score = (Observation — Mean)/Standard Deviation\n",
        "\n",
        "z = (X — μ) / σ"
      ]
    },
    {
      "cell_type": "code",
      "metadata": {
        "id": "G4ofyR59QKtq",
        "colab_type": "code",
        "colab": {}
      },
      "source": [
        "outliers = []\n",
        "def outliers_filter(data):\n",
        "  m = np.mean(data)\n",
        "  s = np.std(data)\n",
        "  threshold = 3\n",
        "\n",
        "  for i in data:\n",
        "    z_score = (i - m)/s\n",
        "    #z_score_abs = np.abs(z_score)\n",
        "    if np.abs(z_score) > threshold:\n",
        "      outliers.append(i)\n",
        "  return outliers"
      ],
      "execution_count": 0,
      "outputs": []
    },
    {
      "cell_type": "code",
      "metadata": {
        "id": "OvdHZtNpQMI8",
        "colab_type": "code",
        "colab": {
          "base_uri": "https://localhost:8080/",
          "height": 35
        },
        "outputId": "bbcc512e-5cf9-4407-f432-f6fb9adb622b"
      },
      "source": [
        "outliers_filter(dataset)"
      ],
      "execution_count": 16,
      "outputs": [
        {
          "output_type": "execute_result",
          "data": {
            "text/plain": [
              "[102, 107, 108]"
            ]
          },
          "metadata": {
            "tags": []
          },
          "execution_count": 16
        }
      ]
    },
    {
      "cell_type": "markdown",
      "metadata": {
        "id": "LFpbLA5oWBzF",
        "colab_type": "text"
      },
      "source": [
        "InterQuantile Range\n",
        "75%- 25% values in a dataset\n",
        "\n",
        "Steps\n",
        "1. Arrange the data in increasing order\n",
        "2. Calculate first(q1) and third quartile(q3)\n",
        "3. Find interquartile range (q3-q1)\n",
        "4.Find lower bound q1*1.5\n",
        "5.Find upper bound q3*1.5¶\n",
        "Anything that lies outside of lower and upper bound is an outlier"
      ]
    },
    {
      "cell_type": "code",
      "metadata": {
        "id": "9A_DQcy7UYbS",
        "colab_type": "code",
        "colab": {
          "base_uri": "https://localhost:8080/",
          "height": 607
        },
        "outputId": "129fb915-05be-4f0e-cd64-b536fadd128f"
      },
      "source": [
        "sorted(dataset)"
      ],
      "execution_count": 17,
      "outputs": [
        {
          "output_type": "execute_result",
          "data": {
            "text/plain": [
              "[10,\n",
              " 10,\n",
              " 10,\n",
              " 10,\n",
              " 10,\n",
              " 11,\n",
              " 11,\n",
              " 12,\n",
              " 12,\n",
              " 12,\n",
              " 12,\n",
              " 12,\n",
              " 12,\n",
              " 12,\n",
              " 13,\n",
              " 13,\n",
              " 13,\n",
              " 13,\n",
              " 14,\n",
              " 14,\n",
              " 14,\n",
              " 14,\n",
              " 14,\n",
              " 14,\n",
              " 15,\n",
              " 15,\n",
              " 15,\n",
              " 15,\n",
              " 15,\n",
              " 17,\n",
              " 19,\n",
              " 102,\n",
              " 107,\n",
              " 108]"
            ]
          },
          "metadata": {
            "tags": []
          },
          "execution_count": 17
        }
      ]
    },
    {
      "cell_type": "code",
      "metadata": {
        "id": "0wt4ie-oVC17",
        "colab_type": "code",
        "colab": {
          "base_uri": "https://localhost:8080/",
          "height": 52
        },
        "outputId": "d46b9c98-23f3-4722-ce2b-27c3df2a0726"
      },
      "source": [
        "q1 , q3 = np.percentile(dataset, [25, 75])\n",
        "print(q1)\n",
        "print(q3)"
      ],
      "execution_count": 18,
      "outputs": [
        {
          "output_type": "stream",
          "text": [
            "12.0\n",
            "15.0\n"
          ],
          "name": "stdout"
        }
      ]
    },
    {
      "cell_type": "code",
      "metadata": {
        "id": "ZShu7_50VPVn",
        "colab_type": "code",
        "colab": {
          "base_uri": "https://localhost:8080/",
          "height": 35
        },
        "outputId": "1e5cdcdd-b659-4a77-9702-91365e9958c9"
      },
      "source": [
        "iqr_value = q3 - q1\n",
        "print(iqr_value)"
      ],
      "execution_count": 19,
      "outputs": [
        {
          "output_type": "stream",
          "text": [
            "3.0\n"
          ],
          "name": "stdout"
        }
      ]
    },
    {
      "cell_type": "code",
      "metadata": {
        "id": "9pOgXNXxVWHR",
        "colab_type": "code",
        "colab": {}
      },
      "source": [
        "low_bound = q1 - (iqr_value * 1.5)\n",
        "upper_bound = q3 + (iqr_value * 1.5)"
      ],
      "execution_count": 0,
      "outputs": []
    },
    {
      "cell_type": "code",
      "metadata": {
        "id": "s2tgiC92V2xR",
        "colab_type": "code",
        "colab": {
          "base_uri": "https://localhost:8080/",
          "height": 52
        },
        "outputId": "f67848d2-6ea2-449d-a6a1-7c465077095e"
      },
      "source": [
        "print(low_bound)\n",
        "print(upper_bound)"
      ],
      "execution_count": 24,
      "outputs": [
        {
          "output_type": "stream",
          "text": [
            "7.5\n",
            "19.5\n"
          ],
          "name": "stdout"
        }
      ]
    },
    {
      "cell_type": "code",
      "metadata": {
        "id": "Kvy840FDVi6_",
        "colab_type": "code",
        "colab": {}
      },
      "source": [
        "df = np.clip(dataset, low_bound, upper_bound)"
      ],
      "execution_count": 0,
      "outputs": []
    },
    {
      "cell_type": "code",
      "metadata": {
        "id": "1bzYduZMVzK6",
        "colab_type": "code",
        "colab": {
          "base_uri": "https://localhost:8080/",
          "height": 87
        },
        "outputId": "19feb59e-8d56-4746-a84b-1d9b15dbb2b2"
      },
      "source": [
        "df"
      ],
      "execution_count": 22,
      "outputs": [
        {
          "output_type": "execute_result",
          "data": {
            "text/plain": [
              "array([11. , 10. , 12. , 14. , 12. , 15. , 14. , 13. , 15. , 19.5, 12. ,\n",
              "       14. , 17. , 19. , 19.5, 10. , 13. , 12. , 14. , 12. , 19.5, 12. ,\n",
              "       11. , 14. , 13. , 15. , 10. , 15. , 12. , 10. , 14. , 13. , 15. ,\n",
              "       10. ])"
            ]
          },
          "metadata": {
            "tags": []
          },
          "execution_count": 22
        }
      ]
    }
  ]
}